{
 "cells": [
  {
   "cell_type": "code",
   "execution_count": 20,
   "metadata": {},
   "outputs": [],
   "source": [
    "import pandas as pd\n",
    "import numpy as np\n",
    "import matplotlib.pyplot as plt\n",
    "import time\n",
    "import math\n",
    "import multiprocessing\n",
    "from sklearn.metrics import mean_absolute_error\n",
    "\n",
    "pd.options.display.max_rows = 200\n",
    "\n",
    "np.set_printoptions(threshold=np.inf)\n",
    "np.set_printoptions(linewidth=100, suppress=True)"
   ]
  },
  {
   "cell_type": "markdown",
   "metadata": {},
   "source": [
    "# 一 读入数据"
   ]
  },
  {
   "cell_type": "code",
   "execution_count": 2,
   "metadata": {},
   "outputs": [],
   "source": [
    "# 训练集\n",
    "train = pd.read_csv(\"../data/training_ratings.csv\",usecols=[0,1,2])"
   ]
  },
  {
   "cell_type": "code",
   "execution_count": 3,
   "metadata": {},
   "outputs": [],
   "source": [
    "# 测试集\n",
    "test = pd.read_csv(\"../data/testing_ratings.csv\",usecols=[0,1,2])"
   ]
  },
  {
   "cell_type": "markdown",
   "metadata": {},
   "source": [
    "# 二 模型求解"
   ]
  },
  {
   "cell_type": "code",
   "execution_count": 4,
   "metadata": {},
   "outputs": [],
   "source": [
    "# 用户-电影评分矩阵\n",
    "train_matrix = train.pivot_table(index=[\"userId\"], columns=[\"movieId\"],values=\"rating\")"
   ]
  },
  {
   "cell_type": "code",
   "execution_count": 5,
   "metadata": {},
   "outputs": [],
   "source": [
    "# 用户-电影评分矩阵0（用0填充nan）\n",
    "train_matrix0 = train_matrix.fillna(0)"
   ]
  },
  {
   "cell_type": "code",
   "execution_count": 6,
   "metadata": {},
   "outputs": [],
   "source": [
    "# 每个用户打过分的电影列表\n",
    "dict_key_user_value_movies = {}\n",
    "for user in train_matrix.index:\n",
    "    dict_key_user_value_movies[user]=train_matrix.loc[[user],:].dropna(axis=1).columns"
   ]
  },
  {
   "cell_type": "code",
   "execution_count": 7,
   "metadata": {},
   "outputs": [],
   "source": [
    "# 每个电影评过分的用户列表\n",
    "dict_key_movie_value_users = {}\n",
    "for movie in train_matrix.columns:\n",
    "    dict_key_movie_value_users[movie]=train_matrix.loc[:,movie].dropna().index"
   ]
  },
  {
   "cell_type": "code",
   "execution_count": 9,
   "metadata": {},
   "outputs": [],
   "source": [
    "from sklearn.metrics.pairwise import pairwise_distances\n",
    "# 用户相似度矩阵\n",
    "user_similarity = pairwise_distances(train_matrix.fillna(0), metric='cosine')\n",
    "# 物品相似度矩阵，没用到\n",
    "item_similarity = pairwise_distances(train_matrix.fillna(0).T, metric='cosine')"
   ]
  },
  {
   "cell_type": "code",
   "execution_count": 10,
   "metadata": {},
   "outputs": [
    {
     "output_type": "execute_result",
     "data": {
      "text/plain": "(610, 610)"
     },
     "metadata": {},
     "execution_count": 10
    }
   ],
   "source": [
    "user_similarity.shape"
   ]
  },
  {
   "cell_type": "code",
   "execution_count": 11,
   "metadata": {},
   "outputs": [
    {
     "output_type": "execute_result",
     "data": {
      "text/plain": "(9362, 9362)"
     },
     "metadata": {},
     "execution_count": 11
    }
   ],
   "source": [
    "item_similarity.shape"
   ]
  },
  {
   "cell_type": "code",
   "execution_count": 12,
   "metadata": {},
   "outputs": [],
   "source": [
    "# 辅助函数，若待预测电影在训练集没出现，那就没公共打分用户，所以返回提示码999\n",
    "def func(x,c_movie):\n",
    "    l = list(set(dict_key_movie_value_users[x['movieId']]).intersection(set(dict_key_movie_value_users[c_movie])))\n",
    "    if l:\n",
    "        return l\n",
    "    else:\n",
    "        return 999\n",
    "\n",
    "# 保证评分一定在0.5~5.0之间，并且保留一位小数\n",
    "def s_round(num):\n",
    "    return round(max(0.5,min(5.0,num)),1)\n",
    "\n",
    "# 保证评分是0.5 1.0 1.5 2.0这种步长为0.5的\n",
    "def f_round(num):\n",
    "    z = int(num)\n",
    "    f = num - int(num)\n",
    "    new_f = f\n",
    "    if f<=0.25:\n",
    "        new_f = 0\n",
    "    elif (f>0.25 and f<0.745):\n",
    "        new_f = 0.5\n",
    "    elif f>=0.745:\n",
    "        new_f = 1.0\n",
    "    return z + new_f\n",
    "\n",
    "# slopeone算法：首先找出当前用户已打分电影，然后分别找出这些电影已打分用户中有哪些是当前电影和已有电影有重叠的，然后对这个已打分电影计算一个权重\n",
    "def predict(c_user, c_movie,train_matrix1,train_matrix,dict_key_user_value_movies,dict_key_movie_value_users,user_similarity):\n",
    "    #先判断当前电影是否在训练集中出现过\n",
    "    if c_movie not in train_matrix1.columns:\n",
    "        t1 = time.time()\n",
    "        pred_rating = train_matrix1.loc[[c_user],:].mean(axis=1)[c_user].round(1)\n",
    "        t2 = time.time()\n",
    "        # print(str(c_user)+'=='+ str(c_movie)+': '+str(pred_rating)+', time(s): '+str(t2-t1))\n",
    "        return pred_rating,pred_rating,pred_rating,f_round(pred_rating) # c_user给其他电影的平均分\n",
    "    else:\n",
    "        c_user_list = dict_key_user_value_movies[c_user]\n",
    "        t2 = time.time()\n",
    "        df = pd.DataFrame(c_user_list)\n",
    "        # print(df.values.flags)\n",
    "        df['l'] = df.apply(lambda x: func(x,c_movie),axis=1)\n",
    "        df = df[df['l']!=999] # 剔除l为空的行\n",
    "        df['l_len'] = df.apply(lambda x: len(x['l']),axis=1)\n",
    "        df['dev_m_list'] = df.apply(lambda x: train_matrix[x['movieId']][c_user], axis=1)\n",
    "        df['m_dev_list'] = df.apply(lambda x :[(train_matrix[c_movie][u] - train_matrix[x['movieId']][u]) for u in x['l']],axis=1)\n",
    "        # print(df['l_len'])\n",
    "        df['bio_list'] = df.apply(lambda x :[(train_matrix[c_movie][u]*train_matrix[x['movieId']][u])/(len(dict_key_movie_value_users[x['movieId']])*len(dict_key_user_value_movies[u])) for u in x['l']],axis=1)\n",
    "        df['bio'] = df.apply(lambda x: sum(x['bio_list']), axis=1)\n",
    "        \n",
    "        df['bio_u_list'] = df.apply(lambda x :[user_similarity[int(c_user)-1][u-1] for u in x['l']],axis=1)\n",
    "        df['dev_list'] = df.apply(lambda x: sum(np.multiply(np.array(x['m_dev_list']),np.array(x['bio_u_list'])))/sum(x['bio_u_list']), axis=1)\n",
    "        df['dev_old_list'] = df.apply(lambda x: (sum(x['m_dev_list'])/len(x['m_dev_list'])), axis=1)\n",
    "#         df['dev_delta_list'] = df['dev_old_list']-df['dev_list'] #0.01级别\n",
    "        #最原始\n",
    "        pred_rating0 = ((df['dev_old_list'] + df['dev_m_list']).mean())\n",
    "        #加权二部图对最后一步的电影贡献加权\n",
    "        pred_rating1 = (((df['dev_old_list'] + df['dev_m_list'])*df['bio']).sum()/df['bio'].sum())\n",
    "        #用户相似矩阵对一开始的单个电影加权\n",
    "        pred_rating2 = (((df['dev_list'] + df['dev_m_list'])*df['bio']).sum()/df['bio'].sum())\n",
    "        #对1取整和0.5\n",
    "        pred_rating3 = f_round(pred_rating1)\n",
    "        t3 = time.time()\n",
    "        # print(str(c_user)+'--'+ str(c_movie)+': '+str(pred_rating3)+', t2(s): '+str(t3-t2))\n",
    "        return s_round(pred_rating0),s_round(pred_rating1),s_round(pred_rating2),s_round(pred_rating3)"
   ]
  },
  {
   "cell_type": "code",
   "execution_count": 13,
   "metadata": {},
   "outputs": [
    {
     "output_type": "stream",
     "name": "stdout",
     "text": "CPU times: user 1.97 s, sys: 28.1 ms, total: 2 s\nWall time: 2.03 s\n"
    },
    {
     "output_type": "execute_result",
     "data": {
      "text/plain": "(3.5, 3.5, 3.4, 3.5)"
     },
     "metadata": {},
     "execution_count": 13
    }
   ],
   "source": [
    "%%time\n",
    "# 预测单条记录\n",
    "predict(599,1291,train_matrix,train_matrix0,dict_key_user_value_movies,dict_key_movie_value_users,user_similarity)"
   ]
  },
  {
   "cell_type": "code",
   "execution_count": 14,
   "metadata": {},
   "outputs": [],
   "source": [
    "# 将数据集按行分为8大块，进行并行计算\n",
    "def parallelize_dataframe(data, func):\n",
    "    partitions = 8\n",
    "    data_split = np.array_split(data, partitions) #划分数据\n",
    "    pool = multiprocessing.Pool(processes=partitions) \n",
    "    data = pd.concat(pool.map(func, data_split)) #处理每个数据块，然后合到一起\n",
    "    pool.close()\n",
    "    pool.join()\n",
    "    return data\n",
    "\n",
    "def work(data):\n",
    "    data['pred'] = data.apply(lambda x: predict(x['userId'],x['movieId'],train_matrix,train_matrix0,dict_key_user_value_movies,dict_key_movie_value_users,user_similarity), axis=1)\n",
    "    return data"
   ]
  },
  {
   "cell_type": "code",
   "execution_count": 15,
   "metadata": {},
   "outputs": [
    {
     "output_type": "stream",
     "name": "stdout",
     "text": "CPU times: user 1.12 s, sys: 554 ms, total: 1.67 s\nWall time: 26min 17s\n"
    }
   ],
   "source": [
    "%%time \n",
    "# 9min 18s\n",
    "# 22min 33s\n",
    "test = parallelize_dataframe(test, work)"
   ]
  },
  {
   "cell_type": "code",
   "execution_count": 22,
   "metadata": {},
   "outputs": [
    {
     "output_type": "stream",
     "name": "stdout",
     "text": "0.67117\n0.64963\n0.64983\n0.63841\n"
    }
   ],
   "source": [
    "# 计算MAE得分\n",
    "for i in range(4):\n",
    "    test[f'pred{i}'] = test.apply(lambda x: x['pred'][i], axis=1)\n",
    "    print(round(mean_absolute_error(test[f'pred{i}'], test['rating']),5))"
   ]
  },
  {
   "cell_type": "markdown",
   "metadata": {},
   "source": [
    "# 保存结果"
   ]
  },
  {
   "cell_type": "code",
   "execution_count": 23,
   "metadata": {},
   "outputs": [],
   "source": [
    "test.to_csv(\"../result/all_pred_testing_ratings.csv\",index=None,float_format = '%.1f')"
   ]
  }
 ],
 "metadata": {
  "kernelspec": {
   "display_name": "Python 3",
   "language": "python",
   "name": "python3"
  },
  "language_info": {
   "codemirror_mode": {
    "name": "ipython",
    "version": 3
   },
   "file_extension": ".py",
   "mimetype": "text/x-python",
   "name": "python",
   "nbconvert_exporter": "python",
   "pygments_lexer": "ipython3",
   "version": "3.7.5-final"
  },
  "toc": {
   "base_numbering": 1,
   "nav_menu": {},
   "number_sections": true,
   "sideBar": true,
   "skip_h1_title": false,
   "title_cell": "Table of Contents",
   "title_sidebar": "Contents",
   "toc_cell": true,
   "toc_position": {
    "height": "calc(100% - 180px)",
    "left": "10px",
    "top": "150px",
    "width": "165px"
   },
   "toc_section_display": true,
   "toc_window_display": false
  }
 },
 "nbformat": 4,
 "nbformat_minor": 2
}